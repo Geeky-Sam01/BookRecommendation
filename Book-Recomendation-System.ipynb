{
 "cells": [
  {
   "cell_type": "code",
   "execution_count": null,
   "id": "65eaf54c-8bf8-4b52-820a-f213dff89479",
   "metadata": {},
   "outputs": [],
   "source": [
    "import numpy as np\n",
    "import pandas as pd\n",
    "import numpy as np\n",
    "import matplotlib.pyplot as plt\n",
    "import seaborn as sns\n",
    "from sklearnex import patch_sklearn\n",
    "import warnings\n",
    "warnings.filterwarnings(\"ignore\")\n",
    "patch_sklearn()\n",
    "#from sklearnex import patch_sklearn\n",
    "#patch_sklearn(global_patch=True)\n",
    "#import sklearn\n",
    "\n",
    "#load data sets\n",
    "books=pd.read_csv('Books.csv',error_bad_lines=False)\n",
    "users=pd.read_csv('Users.csv',error_bad_lines=False)\n",
    "ratings=pd.read_csv('Ratings.csv',error_bad_lines=False)\n",
    "\n",
    "print(\"Books Data : \", books.shape)\n",
    "print(\"Users Data : \",users.shape)\n",
    "print(\"Ratings Data :\",ratings.shape)"
   ]
  },
  {
   "cell_type": "markdown",
   "id": "5ea7545d-f6c2-46ca-b232-dde09d0b1af8",
   "metadata": {},
   "source": [
    "<h2>Books dataset preprocessing<h2>"
   ]
  },
  {
   "cell_type": "code",
   "execution_count": null,
   "id": "f53e6d0a-9122-40b7-b2ed-f4215d1ccc2a",
   "metadata": {},
   "outputs": [],
   "source": [
    "print(\"Columns: \", list(books.columns))\n",
    "books.head()\n"
   ]
  },
  {
   "cell_type": "code",
   "execution_count": null,
   "id": "2ed80fa0-b012-4bde-a448-fc0988b299c7",
   "metadata": {},
   "outputs": [],
   "source": [
    "#renaming columns\n",
    "books.rename(columns={'Book-Title':'Title',\n",
    "                      'Book-Author':'Author',\n",
    "                      'Year-Of-Publication':'YOP'\n",
    "                       },inplace=True)\n",
    "#checking for null values\n",
    "books.isnull().sum()"
   ]
  },
  {
   "cell_type": "code",
   "execution_count": null,
   "id": "06fc4ddb-2a1e-41bb-ae87-32123be95181",
   "metadata": {},
   "outputs": [],
   "source": [
    "books.loc[books['Author'].isnull(),:]"
   ]
  },
  {
   "cell_type": "code",
   "execution_count": null,
   "id": "f8f68406-b7db-41fa-b79e-0958a07cf561",
   "metadata": {},
   "outputs": [],
   "source": [
    "books.at[187689,'Author']='Other'"
   ]
  },
  {
   "cell_type": "code",
   "execution_count": null,
   "id": "bf3161ac-8ea3-4d07-b05f-5459899ae361",
   "metadata": {},
   "outputs": [],
   "source": [
    "books.loc[books['Publisher'].isnull(),:]"
   ]
  },
  {
   "cell_type": "code",
   "execution_count": null,
   "id": "348a6b3b-7eef-4577-9f44-3c98bd2edf22",
   "metadata": {},
   "outputs": [],
   "source": [
    "books.at[128890,'Publisher']='Other'\n",
    "books.at[129037,'Publisher']='Other'"
   ]
  },
  {
   "cell_type": "code",
   "execution_count": null,
   "id": "36d08948-880c-4df2-94be-cc0e488f11ee",
   "metadata": {},
   "outputs": [],
   "source": [
    "#checking column Year of Publication\n",
    "books['YOP'].unique()"
   ]
  },
  {
   "cell_type": "code",
   "execution_count": null,
   "id": "42b3fa55-1ad5-4a6d-bd59-b1b849398cc0",
   "metadata": {},
   "outputs": [],
   "source": [
    "books[books['YOP']=='DK Publishing Inc']"
   ]
  },
  {
   "cell_type": "code",
   "execution_count": null,
   "id": "3b6159ae-a9e4-4a70-8a2d-ce395e6d2b90",
   "metadata": {},
   "outputs": [],
   "source": [
    "books.at[209538,'YOP']=2000\n",
    "books.at[221678,'YOP']=2000\n",
    "books.at[209538,'Author']='DK Publishing Inc'\n",
    "books.at[221678,'Author']='DK Publishing Inc'"
   ]
  },
  {
   "cell_type": "code",
   "execution_count": null,
   "id": "28892d60-ed5c-4aea-a55c-9c043a63790f",
   "metadata": {},
   "outputs": [],
   "source": [
    "books[books['YOP']=='Gallimard']"
   ]
  },
  {
   "cell_type": "code",
   "execution_count": null,
   "id": "fa587fda-b93d-4ddf-a9b2-78cbc87c7b49",
   "metadata": {},
   "outputs": [],
   "source": [
    "books.at[220731,'YOP']=2003\n",
    "books.at[220731,'Author']='Gallimard'"
   ]
  },
  {
   "cell_type": "code",
   "execution_count": null,
   "id": "d309e83b-1c6d-45ac-af9f-cbea2eec6ff8",
   "metadata": {},
   "outputs": [],
   "source": [
    "books['YOP'].unique()"
   ]
  },
  {
   "cell_type": "code",
   "execution_count": null,
   "id": "be55dd88-9a22-4050-b9e4-0c174b13471e",
   "metadata": {},
   "outputs": [],
   "source": [
    "books.loc[books['Author'] == 'Gallimard',:]"
   ]
  },
  {
   "cell_type": "code",
   "execution_count": null,
   "id": "3b0427c3-81d8-4e95-9d15-dbab5670ed42",
   "metadata": {},
   "outputs": [],
   "source": [
    "books.loc[books['Author'] == 'DK Publishing Inc',:]"
   ]
  },
  {
   "cell_type": "code",
   "execution_count": null,
   "id": "69a32d61-1c8b-4238-a44a-df6678250f50",
   "metadata": {},
   "outputs": [],
   "source": [
    "books['YOP'] = books['YOP'].astype(int)"
   ]
  },
  {
   "cell_type": "code",
   "execution_count": null,
   "id": "53878969-2bbe-4895-9f13-63af434ad614",
   "metadata": {},
   "outputs": [],
   "source": [
    "print(sorted(list(books['YOP'].unique())))\n"
   ]
  },
  {
   "cell_type": "code",
   "execution_count": null,
   "id": "fd5c21ad-b2cf-4937-994e-5654966f8108",
   "metadata": {},
   "outputs": [],
   "source": [
    "books.drop_duplicates(keep='last', inplace=True) \n",
    "books.reset_index(drop = True, inplace = True)"
   ]
  },
  {
   "cell_type": "markdown",
   "id": "7ec89eff-64dc-4ec4-a2c9-cc7eae109c81",
   "metadata": {},
   "source": [
    "<h2>User dataset pre-processing<h2>"
   ]
  },
  {
   "cell_type": "code",
   "execution_count": null,
   "id": "bd142ab3-48f6-4842-8c3c-debf680c5168",
   "metadata": {},
   "outputs": [],
   "source": [
    "print(\"Columns: \", list(users.columns))\n",
    "users.head()"
   ]
  },
  {
   "cell_type": "code",
   "execution_count": null,
   "id": "a3ae215b-abe8-48e3-bfaf-72c784dc3982",
   "metadata": {},
   "outputs": [],
   "source": [
    "users.isnull().sum()\n"
   ]
  },
  {
   "cell_type": "code",
   "execution_count": null,
   "id": "18073997-5225-4274-a200-683fd427b2a2",
   "metadata": {},
   "outputs": [],
   "source": [
    "print(users.isna().sum()) "
   ]
  },
  {
   "cell_type": "code",
   "execution_count": null,
   "id": "54e2bab4-0bd5-42ea-9e80-655d077067a0",
   "metadata": {},
   "outputs": [],
   "source": []
  },
  {
   "cell_type": "code",
   "execution_count": null,
   "id": "32169595-c190-44f8-88b6-aad66de09df7",
   "metadata": {},
   "outputs": [],
   "source": [
    "print(sorted(list(users['Age'].unique())))"
   ]
  },
  {
   "cell_type": "code",
   "execution_count": null,
   "id": "c129e88a-3955-418d-a78d-c3b645954593",
   "metadata": {},
   "outputs": [],
   "source": [
    "users.describe()"
   ]
  },
  {
   "cell_type": "markdown",
   "id": "040e52a8-be47-401b-957c-d9c7dff63112",
   "metadata": {},
   "source": [
    "<p>As we can see , mean is around 84k but the max is around 278k and min is around 0. Thus , we can confirm there are outlines. We need to handle them<p>"
   ]
  },
  {
   "cell_type": "code",
   "execution_count": null,
   "id": "b97375c4-4c3a-4a40-b0ab-1f0342e337f4",
   "metadata": {},
   "outputs": [],
   "source": [
    "required = users[users['Age'] <= 80]\n",
    "required = required[required['Age'] >= 10]\n",
    "\n",
    "users.loc[users['Age'] > 80, 'Age'] = 80    #outliers with age grater than 80 are substituted with mean \n",
    "users.loc[users['Age'] < 10, 'Age'] = 80    #outliers with age less than 10 years are substitued with mean\n",
    "users['Age'] = users['Age'].fillna(80)      #filling null values with mean\n",
    "users['Age'] = users['Age'].astype(int)     #changing datatype to int\n",
    "\n",
    "print(sorted(list(users['Age'].unique())))"
   ]
  },
  {
   "cell_type": "code",
   "execution_count": null,
   "id": "95c86e22-250d-4a8c-8da2-01166a6c7a24",
   "metadata": {},
   "outputs": [],
   "source": [
    "## Drop duplicate rows\n",
    "users.drop_duplicates(keep='last', inplace=True)\n",
    "users.reset_index(drop=True, inplace=True)"
   ]
  },
  {
   "cell_type": "markdown",
   "id": "12b0f52d-b582-4aed-bf6d-46588e7d8b0f",
   "metadata": {},
   "source": [
    "<h2>Rating dataset preprocessing<h2>"
   ]
  },
  {
   "cell_type": "code",
   "execution_count": null,
   "id": "29b34a8c-c802-4945-a4f1-39d9e560cd1e",
   "metadata": {},
   "outputs": [],
   "source": [
    "print(\"Columns: \", list(users.columns))\n",
    "ratings.head()"
   ]
  },
  {
   "cell_type": "code",
   "execution_count": null,
   "id": "d68a6818-f9b3-40be-9529-38f53ccf1355",
   "metadata": {},
   "outputs": [],
   "source": [
    "ratings.isnull().sum() "
   ]
  },
  {
   "cell_type": "code",
   "execution_count": null,
   "id": "70db2fa5-a280-4e01-8c70-be840f65262b",
   "metadata": {},
   "outputs": [],
   "source": [
    "## Drop duplicate rows\n",
    "ratings.drop_duplicates(keep='last', inplace=True)\n",
    "ratings.reset_index(drop=True, inplace=True)"
   ]
  },
  {
   "cell_type": "code",
   "execution_count": null,
   "id": "f7e501ac-2733-4fbc-b7f7-00643d2f2755",
   "metadata": {},
   "outputs": [],
   "source": [
    "ratings.info()"
   ]
  },
  {
   "cell_type": "code",
   "execution_count": null,
   "id": "c0b0516f-4fb1-4d32-ace6-771b6cf852cf",
   "metadata": {},
   "outputs": [],
   "source": [
    "plt.figure(figsize=(5,3))\n",
    "sns.countplot(x=\"Book-Rating\", data=ratings)"
   ]
  },
  {
   "cell_type": "markdown",
   "id": "9e6e6c1c-12c8-494f-bc56-5306016be7e1",
   "metadata": {},
   "source": [
    "<h3>Merge datasets<h3>"
   ]
  },
  {
   "cell_type": "code",
   "execution_count": null,
   "id": "2bb8dc21-0106-49eb-80a4-c2ca7e3709fd",
   "metadata": {},
   "outputs": [],
   "source": [
    "%pastebin"
   ]
  },
  {
   "cell_type": "code",
   "execution_count": null,
   "id": "9fcbc668-5855-4fb5-a31d-0816e8bb57ab",
   "metadata": {},
   "outputs": [],
   "source": [
    "ratings_with_name = ratings.merge(books,on='ISBN')\n",
    "x = ratings_with_name.groupby('User-ID').count()['Book-Rating'] > 200\n",
    "padhe_likhe_users = x[x].index"
   ]
  },
  {
   "cell_type": "code",
   "execution_count": null,
   "id": "64aab8d6-095d-431f-8866-67a8a484d705",
   "metadata": {},
   "outputs": [],
   "source": [
    "filtered_rating = ratings_with_name[ratings_with_name['User-ID'].isin(padhe_likhe_users)]"
   ]
  },
  {
   "cell_type": "code",
   "execution_count": null,
   "id": "d0ed13bd-6c1a-4712-a90e-0b95d1f74fe7",
   "metadata": {},
   "outputs": [],
   "source": [
    "y = filtered_rating.groupby('Title').count()['Book-Rating']>=50\n",
    "famous_books = y[y].index"
   ]
  },
  {
   "cell_type": "code",
   "execution_count": null,
   "id": "0a7d0968-eb1c-4fe9-9b28-b04e6e3b8679",
   "metadata": {},
   "outputs": [],
   "source": [
    "final_ratings = filtered_rating[filtered_rating['Title'].isin(famous_books)]"
   ]
  },
  {
   "cell_type": "code",
   "execution_count": null,
   "id": "56590f68-fea8-463d-9471-c9c914f6d401",
   "metadata": {},
   "outputs": [],
   "source": [
    "pt = final_ratings.pivot_table(index='Title',columns='User-ID',values='Book-Rating')"
   ]
  },
  {
   "cell_type": "code",
   "execution_count": null,
   "id": "6f9cef79-794c-4206-a337-f4ef67794688",
   "metadata": {},
   "outputs": [],
   "source": [
    "pt.fillna(0,inplace=True)"
   ]
  },
  {
   "cell_type": "code",
   "execution_count": null,
   "id": "17e4d3e9-953f-4a48-98e4-636281d08e88",
   "metadata": {},
   "outputs": [],
   "source": [
    "pt"
   ]
  },
  {
   "cell_type": "code",
   "execution_count": null,
   "id": "957c6e24-afd9-4953-99b2-df9dff1d8efe",
   "metadata": {},
   "outputs": [],
   "source": [
    "from sklearn.metrics.pairwise import cosine_similarity"
   ]
  },
  {
   "cell_type": "code",
   "execution_count": null,
   "id": "c240c2cb-0713-4ff0-8e43-4c34f427bc58",
   "metadata": {},
   "outputs": [],
   "source": [
    "similarity_scores = cosine_similarity(pt)"
   ]
  },
  {
   "cell_type": "code",
   "execution_count": null,
   "id": "4d4a5bdb-cd28-4aa5-a352-46ffbe76cfdc",
   "metadata": {},
   "outputs": [],
   "source": [
    "def recommend(book_name):\n",
    "    # index fetch\n",
    "    index = np.where(pt.index==book_name)[0][0]\n",
    "    similar_items = sorted(list(enumerate(similarity_scores[index])),key=lambda x:x[1],reverse=True)[1:5]\n",
    "    \n",
    "    data = []\n",
    "    for i in similar_items:\n",
    "        item = []\n",
    "        temp_df = books[books['Title'] == pt.index[i[0]]]\n",
    "        item.extend(list(temp_df.drop_duplicates('Title')['Title'].values))\n",
    "        item.extend(list(temp_df.drop_duplicates('Title')['Author'].values))\n",
    "        item.extend(list(temp_df.drop_duplicates('Title')['Image-URL-M'].values))\n",
    "        \n",
    "        data.append(item)\n",
    "    \n",
    "    return data"
   ]
  },
  {
   "cell_type": "code",
   "execution_count": null,
   "id": "dbe21d98-21ce-496d-9407-7af1c4567176",
   "metadata": {},
   "outputs": [],
   "source": [
    "recommend('1984')"
   ]
  },
  {
   "cell_type": "code",
   "execution_count": null,
   "id": "f4f995a0-567c-41d3-b552-8b158eb13bc8",
   "metadata": {},
   "outputs": [],
   "source": [
    "import pickle\n",
    "pickle.dump(pt,open('pt.pkl','wb'))\n",
    "pickle.dump(books,open('books.pkl','wb'))\n",
    "pickle.dump(similarity_scores,open('similarity_scores.pkl','wb'))"
   ]
  }
 ],
 "metadata": {
  "kernelspec": {
   "display_name": "oneAPI 2022.3.1",
   "language": "python",
   "name": "2022.3.1"
  },
  "language_info": {
   "codemirror_mode": {
    "name": "ipython",
    "version": 3
   },
   "file_extension": ".py",
   "mimetype": "text/x-python",
   "name": "python",
   "nbconvert_exporter": "python",
   "pygments_lexer": "ipython3",
   "version": "3.9.13"
  }
 },
 "nbformat": 4,
 "nbformat_minor": 5
}
